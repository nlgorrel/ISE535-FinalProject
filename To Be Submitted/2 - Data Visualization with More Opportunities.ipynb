{
 "cells": [
  {
   "cell_type": "markdown",
   "id": "634ae019",
   "metadata": {},
   "source": [
    "# Upload Data"
   ]
  },
  {
   "cell_type": "code",
   "execution_count": null,
   "id": "df7c5489",
   "metadata": {},
   "outputs": [],
   "source": [
    "import pandas as pd\n",
    "from pandas import DataFrame, Series\n",
    "\n",
    "import ipywidgets as widgets\n",
    "from ipywidgets import *\n",
    "\n",
    "import matplotlib.pyplot as plt\n",
    "import numpy as np"
   ]
  },
  {
   "cell_type": "code",
   "execution_count": null,
   "id": "720fe297",
   "metadata": {},
   "outputs": [],
   "source": [
    "DF = pd.read_csv('US-Engineering-Profiles.csv',index_col=0)\n",
    "ethnicities = list(DF.columns)[6:-1]"
   ]
  },
  {
   "cell_type": "markdown",
   "id": "50c3ef4e",
   "metadata": {},
   "source": [
    "### Create Functions to Classify Data"
   ]
  },
  {
   "cell_type": "code",
   "execution_count": null,
   "id": "541fcc89",
   "metadata": {},
   "outputs": [],
   "source": [
    "def find_level(string):\n",
    "    loc1 = string.rfind(\"(\")\n",
    "    loc2 = string.rfind(\")\")\n",
    "    if loc1 != -1:\n",
    "        level = string[loc1 + 1 : loc2]      # Find level in given Degree Name\n",
    "        if len(level) > 4 and (level.find(\".S.\") < 0 or level.find(\"M.E\") < 0):   # Record extra Levels\n",
    "            level = \"other\"                  # Consider non-standard levels as \"other\"\n",
    "    else:\n",
    "        level = \"other\"                      # If no level within parenthesis, then an \"other\"\n",
    "    return level"
   ]
  },
  {
   "cell_type": "code",
   "execution_count": null,
   "id": "ccd3c6d3",
   "metadata": {},
   "outputs": [],
   "source": [
    "def find_name(string):\n",
    "    loc1 = string.rfind(\"(\")\n",
    "    if loc1 != -1:\n",
    "        name = string[:loc1-1]               # Find Degree Name by taking out the level\n",
    "    else:\n",
    "        name = string                        # If no level, keep original name\n",
    "    return name"
   ]
  },
  {
   "cell_type": "markdown",
   "id": "6dc0c84c",
   "metadata": {},
   "source": [
    "### Use Functions to Update DataFrame"
   ]
  },
  {
   "cell_type": "code",
   "execution_count": null,
   "id": "d9288a0f",
   "metadata": {},
   "outputs": [],
   "source": [
    "DF[\"Degree Level\"] = DF.apply (lambda row: find_level(row[\"Degree Name\"]), axis=1)   # Add Degree Level data\n",
    "DF[\"Degree Name\"] = DF.apply (lambda row: find_name(row[\"Degree Name\"]), axis=1)     # Update Degree Name\n",
    "\n",
    "#Move Degree Level data to between \"Degree Name\" and \"Discipline Name\"\n",
    "col = DF.pop(\"Degree Level\")\n",
    "DF.insert(4, col.name, col)"
   ]
  },
  {
   "cell_type": "markdown",
   "id": "4e323b50",
   "metadata": {},
   "source": [
    "### Create Widgets to Select User's Desired Data"
   ]
  },
  {
   "cell_type": "code",
   "execution_count": null,
   "id": "41a22349",
   "metadata": {},
   "outputs": [],
   "source": [
    "# Widget to choose Degree Level\n",
    "Level_SM = widgets.SelectMultiple(\n",
    "    options=sorted(DF[\"Degree Level\"].unique()),\n",
    "    value=['BS'],\n",
    "    rows=5,\n",
    "    disabled=False\n",
    ")\n",
    "\n",
    "# Widget to choose Degrees\n",
    "Name_SM = widgets.SelectMultiple(\n",
    "    options=sorted(DF[\"Discipline Name\"].unique()),\n",
    "    rows=10,\n",
    "    disabled=False\n",
    ")\n",
    "\n",
    "# Widget to choose Ethnicities\n",
    "Ethnicity_SM = widgets.SelectMultiple(\n",
    "    options=ethnicities,\n",
    "    rows=5,\n",
    "    disabled=False\n",
    ")\n",
    "\n",
    "# Widget to choose Year\n",
    "Year_SM = widgets.SelectMultiple(\n",
    "    options=DF['Year'].unique(),\n",
    "    value = [min(DF['Year'].unique())],\n",
    "    rows = 2,\n",
    "    disabled=False    \n",
    ")\n",
    "\n",
    "# Widget to choose Data to Visualize\n",
    "visual_RB = widgets.RadioButtons(\n",
    "    options = ['Ethnic Distribution over Time',\n",
    "               'Ethnic Distribution over Degree Level',\n",
    "               'Ethnic Distribution over Discipline',\n",
    "               'Discipline over Time',\n",
    "               'Discpline over Degree Level'],  \n",
    "    disabled=False\n",
    ")\n",
    "\n",
    "# Widget to submit data\n",
    "Submit_btn = widgets.Button(\n",
    "    description = 'Submit',\n",
    "    disabled=False,\n",
    "    button_style='info'\n",
    ")"
   ]
  },
  {
   "cell_type": "markdown",
   "id": "0bd9eb83",
   "metadata": {},
   "source": [
    "### Functions to run User Form and Produce Output"
   ]
  },
  {
   "cell_type": "code",
   "execution_count": null,
   "id": "5d905998",
   "metadata": {},
   "outputs": [],
   "source": [
    "def Retrieve_Values(Submit_btn):\n",
    "    Yr = Year_SM.value\n",
    "    Lvl = Level_SM.value\n",
    "    Dsc = Name_SM.value\n",
    "    Prof = Ethnicity_SM.value\n",
    "    Graph = visual_RB.value\n",
    "    Visualize(Yr, Lvl, Dsc, Prof, Graph)"
   ]
  },
  {
   "cell_type": "code",
   "execution_count": null,
   "id": "defac86b",
   "metadata": {},
   "outputs": [],
   "source": [
    "def Visualize(Year, Level, Discipline, Profile, Graph):\n",
    "# PREPARE FIGURE\n",
    "    fig, ax = plt.subplots()\n",
    "    fig.set_size_inches(13, 8)   # Edit plot width*height\n",
    "# GET SELECTED DATA\n",
    "    df = DF.loc[DF['Year'].isin(Year)]\n",
    "    df = df.loc[df['Degree Level'].isin(Level)]\n",
    "    df = df.loc[df['Discipline Name'].isin(Discipline)]\n",
    "    cols = (\"Year\",\"Data Type\",\"Institution\",\"Degree Name\",\"Degree Level\",\"Discipline Name\")+Profile\n",
    "    df = df.loc[:,cols]\n",
    "# GET ETHNIC DATA\n",
    "    if Graph[:6] == \"Ethnic\":\n",
    "        x = np.arange(len(Profile))  # the label locations\n",
    "# SETUP OPTION 1 GRAPH\n",
    "        if Graph == 'Ethnic Distribution over Time':\n",
    "            width = 0.35 # bar width\n",
    "            if 2019 in Year:\n",
    "                df2019 = df.loc[df['Year']==2019]\n",
    "                df2019 = df2019.loc[:,Profile]\n",
    "                values_2019 = df2019.sum(axis=0)\n",
    "                bar1 = ax.bar(x - width/2, values_2019, width, label='2019')\n",
    "            if 2020 in Year:\n",
    "                df2020 = df.loc[df['Year']==2020]  \n",
    "                df2020 = df2020.loc[:,Profile]\n",
    "                values_2020 = df2020.sum(axis=0)        \n",
    "                bar2 = ax.bar(x + width/2, values_2020, width, label='2020') \n",
    "            ax.set_xticks(x)\n",
    "            ax.set_xticklabels(Profile, rotation = 45, fontsize=8)\n",
    "            ax.set_ylabel('Frequency')\n",
    "            ax.set_title(Graph)\n",
    "            ax.legend()\n",
    "            plt.show()\n",
    "# SETUP OPTION 2 GRAPH\n",
    "        elif Graph == 'Ethnic Distribution over Degree Level':\n",
    "            width = .2\n",
    "            i = 0\n",
    "            for each in Level:\n",
    "                i += 1\n",
    "                if i < len(Level)/2:\n",
    "                    j = 1\n",
    "                else:\n",
    "                    j = -1\n",
    "                Df = df\n",
    "                Df = Df.loc[df['Degree Level']==each]\n",
    "                values = Df.loc[:,Profile].sum(axis=0)\n",
    "                ax.bar(x + j*i*width/len(Level), values, width, label=each)\n",
    "            ax.set_xticks(x)\n",
    "            ax.set_xticklabels(Profile, rotation = 45, fontsize=8)\n",
    "            ax.set_ylabel('Frequency')\n",
    "            ax.set_title(Graph)\n",
    "            ax.legend()\n",
    "            plt.show()\n",
    "# SETUP OPTION 3 GRAPH\n",
    "        elif Graph == 'Ethnic Distribution over Discipline':\n",
    "            pass\n",
    "        \n",
    "# SETUP OPTION 4 GRAPH\n",
    "        else:\n",
    "            print(\"That Graph is not currently set up.\")\n",
    "            \n",
    "# GET DISCIPLINE DATA\n",
    "    elif Graph[:len('Discipline')] == 'Discipline':\n",
    "        if Graph == 'Discipline over Time':\n",
    "            pass\n",
    "\n",
    "        elif Graph == 'Discpline over Degree Level':\n",
    "            pass\n",
    "        else:\n",
    "            print(\"That Graph is not currently set up\")\n",
    "    else:\n",
    "        print(\"That Graph is not currently set up.\")"
   ]
  },
  {
   "cell_type": "code",
   "execution_count": null,
   "id": "2cff170a",
   "metadata": {},
   "outputs": [],
   "source": [
    "Submit_btn.on_click(Retrieve_Values)"
   ]
  },
  {
   "cell_type": "markdown",
   "id": "3a0fccdc",
   "metadata": {},
   "source": [
    "### Create Form"
   ]
  },
  {
   "cell_type": "code",
   "execution_count": null,
   "id": "0b2a173d",
   "metadata": {},
   "outputs": [],
   "source": [
    "# Create Uniform Spacing between the labels and the widgets\n",
    "label_layout = Layout(\n",
    "    width = '115px',\n",
    ")"
   ]
  },
  {
   "cell_type": "code",
   "execution_count": null,
   "id": "cd6faa60",
   "metadata": {},
   "outputs": [],
   "source": [
    "# Set up each row in the form\n",
    "form_item_layout = Layout(\n",
    "    display='flex',\n",
    "    flex_flow='row',\n",
    "    justify_content='flex-start'\n",
    ")"
   ]
  },
  {
   "cell_type": "code",
   "execution_count": null,
   "id": "09792d9f",
   "metadata": {},
   "outputs": [],
   "source": [
    "# Set up the overall form\n",
    "box_layout = Layout(display='flex',\n",
    "                   flex_flow='column',\n",
    "                   align_items='stretch',\n",
    "                   border='solid 2px',\n",
    "                   width='75%'\n",
    ")"
   ]
  },
  {
   "cell_type": "code",
   "execution_count": null,
   "id": "cafcc169",
   "metadata": {},
   "outputs": [],
   "source": [
    "# Add items into form\n",
    "form_items = [\n",
    "    Box([Label(value='Data Selection', layout= label_layout)], layout=Layout(justify_content='center')),\n",
    "    \n",
    "    Box([Label(value='Year:', layout= label_layout),\n",
    "         Year_SM], layout=form_item_layout),\n",
    "    \n",
    "    Box([Label(value='Degree Level:', layout= label_layout),\n",
    "         Level_SM], layout=form_item_layout),\n",
    "    \n",
    "    Box([Label(value='Discipline Name:', layout= label_layout),\n",
    "         Name_SM], layout=form_item_layout),\n",
    "    \n",
    "    Box([Label(value='Ethnicity/ Sex:', layout= label_layout),\n",
    "         Ethnicity_SM], layout=form_item_layout),\n",
    "    \n",
    "    Box([Label(value='Graphs:', layout= label_layout),\n",
    "         visual_RB], layout=form_item_layout),\n",
    "    \n",
    "    Box([Submit_btn],layout=Layout(justify_content='flex-end'))\n",
    "]"
   ]
  },
  {
   "cell_type": "code",
   "execution_count": null,
   "id": "8942b6d7",
   "metadata": {},
   "outputs": [],
   "source": [
    "#Create form\n",
    "form = Box(form_items, layout=box_layout)"
   ]
  },
  {
   "cell_type": "markdown",
   "id": "702986af",
   "metadata": {},
   "source": [
    "### User Interface"
   ]
  },
  {
   "cell_type": "code",
   "execution_count": null,
   "id": "486da042",
   "metadata": {
    "scrolled": false
   },
   "outputs": [],
   "source": [
    "form"
   ]
  },
  {
   "cell_type": "code",
   "execution_count": null,
   "id": "2fbc99ec",
   "metadata": {},
   "outputs": [],
   "source": []
  },
  {
   "cell_type": "code",
   "execution_count": null,
   "id": "cb930966",
   "metadata": {},
   "outputs": [],
   "source": []
  }
 ],
 "metadata": {
  "kernelspec": {
   "display_name": "Python 3",
   "language": "python",
   "name": "python3"
  },
  "language_info": {
   "codemirror_mode": {
    "name": "ipython",
    "version": 3
   },
   "file_extension": ".py",
   "mimetype": "text/x-python",
   "name": "python",
   "nbconvert_exporter": "python",
   "pygments_lexer": "ipython3",
   "version": "3.8.8"
  }
 },
 "nbformat": 4,
 "nbformat_minor": 5
}
