{
 "cells": [
  {
   "cell_type": "markdown",
   "id": "d36bfccc",
   "metadata": {},
   "source": [
    "# Selenium Setup\n",
    "* Run the code below to prepare the data for the webscraping tool\n",
    "* This program uses Microsoft Edge\n",
    "* Note: must download <mark> msedgedriver.exe </mark> from https://developer.microsoft.com/en-us/microsoft-edge/tools/webdriver/\n",
    "    * Place the file application into a specific folder and put the file location under the variable - <mark> FileLoc </mark>\n",
    "    \n",
    "<span style=\"color: red\"> This code WILL take a long time to load. On 11/25/2021, it took approximately 20 hours to run. </span>\n",
    "\n",
    "**For the user interface**, please use `US-Engineering-Profiles-Sample.csv`, as this code created that spreadsheet.\n",
    "\n",
    "<span style=\"color:blue\"> **As seen in code, all data comes from asee.org** </span>\n",
    "    \n",
    "### Install and Load Code Libraries"
   ]
  },
  {
   "cell_type": "code",
   "execution_count": null,
   "id": "232a9d42",
   "metadata": {},
   "outputs": [],
   "source": [
    "%%capture\n",
    "pip install -U selenium"
   ]
  },
  {
   "cell_type": "code",
   "execution_count": null,
   "id": "b8ab3bac",
   "metadata": {},
   "outputs": [],
   "source": [
    "%%capture\n",
    "pip install msedge-selenium-tools selenium==3.141"
   ]
  },
  {
   "cell_type": "code",
   "execution_count": 1,
   "id": "eda049d0",
   "metadata": {},
   "outputs": [],
   "source": [
    "from selenium import webdriver\n",
    "from selenium.webdriver.common.by import By\n",
    "from selenium.webdriver.support.ui import WebDriverWait\n",
    "from selenium.webdriver.common.keys import Keys\n",
    "from selenium.webdriver.support.ui import Select\n",
    "from selenium.webdriver.support import expected_conditions as EC\n",
    "import time\n",
    "import numpy as np\n",
    "import pandas as pd\n",
    "from pandas import Series, DataFrame\n",
    "from openpyxl import Workbook"
   ]
  },
  {
   "cell_type": "markdown",
   "id": "cb13c5d3",
   "metadata": {},
   "source": [
    "### Navigate DOM to Extract Data"
   ]
  },
  {
   "cell_type": "code",
   "execution_count": 2,
   "id": "dcca1c1e",
   "metadata": {},
   "outputs": [],
   "source": [
    "def institutions(driver, t, DF, YRID, DGID, Data_Name, Int_ID, Table_ID):\n",
    "# Find the Degree Level dropdown box\n",
    "    DEGREE = driver.find_element_by_id(DGID)\n",
    "    DEGREE = DEGREE.find_element_by_xpath(\"..\")                          # Go up a level to get the interactable element\n",
    "    time.sleep(t)                                                        # Wait for data to load\n",
    "    DEGREE.click()                                                       # Click on the dropdown box\n",
    "    for each in DEGREE.find_elements_by_xpath(\"./select/option\"):        # Activate all degree levels\n",
    "        each.click()\n",
    "        time.sleep(t)\n",
    "    \n",
    "# Find the Year dropdown box\n",
    "    YEAR = driver.find_element_by_id(YRID)\n",
    "    YEAR = YEAR.find_element_by_xpath(\"..\")                              # Go up a level to get the interactable element\n",
    "    time.sleep(t)                                                        # Give time for dropdown box to load\n",
    "    YEAR.click()                                                         # Click on the dropdown box\n",
    "    for option in YEAR.find_elements_by_xpath(\"./select/option\"):\n",
    "        option.click()\n",
    "        time.sleep(t)   \n",
    "    \n",
    "# Find the Institution dropdown box\n",
    "        element = driver.find_element_by_id(Int_ID)\n",
    "        element = element.find_element_by_xpath(\"..\")                    # Go up a level\n",
    "        element = element.find_element_by_xpath(\"./div\")                 # Go down to the div interactable element\n",
    "        time.sleep(t)                                                    # Give time for dropdown box to load\n",
    "        element.click()                                                  # Click on the dropdown box\n",
    "        \n",
    "        i = 0\n",
    "\n",
    "# Access Data for each Institution\n",
    "        for opt in element.find_elements_by_css_selector(\"div.option\"):\n",
    "            i += 1\n",
    "            #Select Institution\n",
    "            opt.click()                                                  # Create table for selected school\n",
    "            time.sleep(t)                                                # Wait for the table to fill\n",
    "\n",
    "# Scrape Data\n",
    "            close_table = driver.find_element_by_id(Table_ID)\n",
    "            table = close_table.find_element_by_xpath(\"./div/div[3]/div[2]/table[@id]/tbody\")    # Find the body of the table with the data\n",
    "            rows = table.find_elements_by_xpath(\"./tr\")                  # Get all the rows from the table\n",
    "            for row in rows:  \n",
    "                data = []\n",
    "                if len(rows) > 1:                                        # If no data, # of rows = 1\n",
    "                    columns = row.find_elements_by_xpath(\"./td\")         # Retrieve all values for each row\n",
    "                    data.append(option.text)                             # Collect data for the year\n",
    "                    data.append(Data_Name)                               # Record \"Degrees Awarded\" vs \"Enrollment\" data\n",
    "                    for fact in columns:                                 # Add each piece of data to a list \n",
    "                        data.append(fact.text)\n",
    "                    DF.loc[len(DF.index)]=data                           # Add the list to the DataFrame\n",
    "            element.click()                                              # Reclick dropbox to get next Institution\n",
    "            if i == 5:\n",
    "                break\n",
    "        YEAR.click()                                                     # Reclick dropbox to get next Year"
   ]
  },
  {
   "cell_type": "markdown",
   "id": "2f309282",
   "metadata": {},
   "source": [
    "### Setup Variables and DataFrame"
   ]
  },
  {
   "cell_type": "code",
   "execution_count": 3,
   "id": "8f396215",
   "metadata": {},
   "outputs": [],
   "source": [
    "ethnicities = ['Non Res Alien M', 'Non Res Alien F',\n",
    "                'Unknown M', 'Unknown F',\n",
    "                'Hispanic M', 'Hispanic F',\n",
    "                'American Indian M', 'American Indian F', \n",
    "                'Asian American M', 'Asian American F',\n",
    "                'African American M', 'African American F',\n",
    "                'Hawaiian/pac.isl M', 'Hawaiian/pac.isl F',\n",
    "                'White M', 'White F',\n",
    "                'Multiracial M', 'Multiracial F']\n",
    "cols = ['Year', 'Data Type', 'Institution', \n",
    "        'Degree Name', 'Discipline Name']+ethnicities+['Total']\n",
    "DF = pd.DataFrame(columns=cols)"
   ]
  },
  {
   "cell_type": "code",
   "execution_count": 4,
   "id": "0b36694c",
   "metadata": {},
   "outputs": [],
   "source": [
    "FileLoc = 'C:\\Program Files (x86)\\Microsoft\\Edge\\Application\\msedgedriver.exe'\n",
    "\n",
    "load_time = 2\n",
    "\n",
    "DAName = \"DegreesAwarded\"\n",
    "DAID = \"goButton\"\n",
    "DAYRID = \"yrrr\"\n",
    "DADegreeID = \"deggg\"\n",
    "DAIntID = \"exp\"\n",
    "DATableID = \"trans_tbl\"\n",
    "\n",
    "EName = \"Enrollment\"\n",
    "EID = \"reset_button\"\n",
    "EYRID = \"yrrr2\"\n",
    "EDegreeID = \"deggg2\"\n",
    "EIntID = \"exp2\"\n",
    "ETableID = \"trans_tbl2\"\n",
    "\n",
    "BackButtonID = \"backsel\""
   ]
  },
  {
   "cell_type": "markdown",
   "id": "613c5afe",
   "metadata": {},
   "source": [
    "### Run Code"
   ]
  },
  {
   "cell_type": "code",
   "execution_count": null,
   "id": "7672b6d7",
   "metadata": {},
   "outputs": [],
   "source": [
    "if __name__=='__main__':\n",
    "    \n",
    "    #Create Edge Object\n",
    "    edgeBrowser=webdriver.Edge(executable_path=FileLoc)\n",
    "    #Go to Data Source\n",
    "    edgeBrowser.get(\"https://shinyapps.asee.org/apps/Profiles/\")\n",
    "    \n",
    "    #Go to Degrees Awarded WebPage\n",
    "    edgeBrowser.find_element_by_id(DAID).click()\n",
    "    institutions(edgeBrowser, load_time, DF, DAYRID, DADegreeID, DAName, DAIntID, DATableID)\n",
    "    time.sleep(2)\n",
    "    \n",
    "    #Go back to Home Page\n",
    "    edgeBrowser.find_element_by_id(BackButtonID).click()\n",
    "    time.sleep(2)\n",
    "    \n",
    "    #Go to enrollment page\n",
    "    edgeBrowser.find_element_by_id(EID).click()\n",
    "    institutions(edgeBrowser, load_time, DF, EYRID, EDegreeID, EName, EIntID, ETableID)\n",
    "    \n",
    "    #End Command of Driver\n",
    "    edgeBrowser.quit()"
   ]
  },
  {
   "cell_type": "markdown",
   "id": "acb91be7",
   "metadata": {},
   "source": [
    "### Save DataFrame to CSV"
   ]
  },
  {
   "cell_type": "code",
   "execution_count": null,
   "id": "21940801",
   "metadata": {},
   "outputs": [],
   "source": [
    "wb = Workbook()\n",
    "ws = wb.active\n",
    "wb.save(\"US-Engineering-Profiles.csv\")\n",
    "DF.to_csv(\"US-Engineering-Profiles.csv\")"
   ]
  },
  {
   "cell_type": "code",
   "execution_count": null,
   "id": "cbc3790c",
   "metadata": {},
   "outputs": [],
   "source": []
  }
 ],
 "metadata": {
  "kernelspec": {
   "display_name": "Python 3",
   "language": "python",
   "name": "python3"
  },
  "language_info": {
   "codemirror_mode": {
    "name": "ipython",
    "version": 3
   },
   "file_extension": ".py",
   "mimetype": "text/x-python",
   "name": "python",
   "nbconvert_exporter": "python",
   "pygments_lexer": "ipython3",
   "version": "3.8.8"
  }
 },
 "nbformat": 4,
 "nbformat_minor": 5
}
